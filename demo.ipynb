{
 "cells": [
  {
   "cell_type": "code",
   "execution_count": 4,
   "metadata": {},
   "outputs": [
    {
     "name": "stdout",
     "output_type": "stream",
     "text": [
      "   name  age    country\n",
      "0  John   25        USA\n",
      "1  Jane   30     Canada\n",
      "2   Sam   21         UK\n",
      "3  Sara   28  Australia\n"
     ]
    }
   ],
   "source": [
    "import pandas as pd\n",
    "\n",
    "# create a dictionary of data\n",
    "data = {'name': ['John', 'Jane', 'Sam', 'Sara'],\n",
    "        'age': [25, 30, 21, 28],\n",
    "        'country': ['USA', 'Canada', 'UK', 'Australia']}\n",
    "\n",
    "# create a pandas dataframe from the dictionary\n",
    "df = pd.DataFrame(data)\n",
    "\n",
    "# print the dataframe\n",
    "print(df)"
   ]
  }
 ],
 "metadata": {
  "kernelspec": {
   "display_name": "golden_scenario_env",
   "language": "python",
   "name": "python3"
  },
  "language_info": {
   "codemirror_mode": {
    "name": "ipython",
    "version": 3
   },
   "file_extension": ".py",
   "mimetype": "text/x-python",
   "name": "python",
   "nbconvert_exporter": "python",
   "pygments_lexer": "ipython3",
   "version": "3.7.10"
  },
  "orig_nbformat": 4
 },
 "nbformat": 4,
 "nbformat_minor": 2
}
